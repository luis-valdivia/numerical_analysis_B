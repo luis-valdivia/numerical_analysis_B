{
 "cells": [
  {
   "cell_type": "markdown",
   "metadata": {},
   "source": [
    "Last modified Jul. 19, 2020 by Luis Valdivia"
   ]
  },
  {
   "cell_type": "code",
   "execution_count": 1,
   "metadata": {},
   "outputs": [],
   "source": [
    "# we will need these eventually\n",
    "import matplotlib.pyplot as plt \n",
    "import math"
   ]
  },
  {
   "cell_type": "markdown",
   "metadata": {},
   "source": [
    "# 1.\n",
    "# a.\n",
    "\n",
    "First we write the code to compute the list of coeffcients for Newton’s form of the interpolation polynomial."
   ]
  },
  {
   "cell_type": "code",
   "execution_count": 2,
   "metadata": {},
   "outputs": [],
   "source": [
    "# INPUT: two lists x_j and f_j\n",
    "# OUTPUT: the coefficients c_j for Newton’s form of the interpolation polynomial\n",
    "def newton_coef(xj, fj):\n",
    "    cj = []\n",
    "    for i in range(len(xj)):\n",
    "        cj.append(fj[i])\n",
    "    for k in range(1, len(xj)):\n",
    "        for j in range(len(xj)-1, k-1, -1):\n",
    "            cj[j] = (cj[j] - cj[j-1])/(xj[j] - xj[j-k])\n",
    "    return(cj)      "
   ]
  },
  {
   "cell_type": "markdown",
   "metadata": {},
   "source": [
    "Then we write the code for evaluating the corresponding interpolation polynomial at an arbitrary point $x$."
   ]
  },
  {
   "cell_type": "code",
   "execution_count": 3,
   "metadata": {},
   "outputs": [],
   "source": [
    "# INPUT: the lists c_j and x_j from before, and a real value x\n",
    "# OUTPUT: the interpolation polynomial evaluated at x\n",
    "def inter_poly(cj, xj, x):\n",
    "    p = cj[len(cj)-1]\n",
    "    for j in range(len(xj)-2, -1, -1):\n",
    "        p = cj[j] + ((x - xj[j]) * p);\n",
    "    return(p)  "
   ]
  },
  {
   "cell_type": "markdown",
   "metadata": {},
   "source": [
    "Let's test it by interpolating the polynomial $f(x) = x^2 -3x +4$ with $f(1) = 2$, $f(2) = 2$, and $f(3) = 4$. We will print the coefficients and then print the interpolating polynomial evaluated at $x = 4$ and $x = 5$."
   ]
  },
  {
   "cell_type": "code",
   "execution_count": 4,
   "metadata": {},
   "outputs": [
    {
     "name": "stdout",
     "output_type": "stream",
     "text": [
      "[2, 0.0, 1.0]\n",
      "8.0\n",
      "14.0\n"
     ]
    }
   ],
   "source": [
    "testxj = [1,2,3]\n",
    "testfj = [2,2,4]\n",
    "testcj = newton_coef(testxj,testfj)\n",
    "print(testcj)\n",
    "print(inter_poly(testcj, testxj, 4))\n",
    "print(inter_poly(testcj, testxj, 5))"
   ]
  },
  {
   "cell_type": "markdown",
   "metadata": {},
   "source": [
    "The coefficients imply that the interpolating polynomial $p$ is $2 + (x-1)(x-2) = x^2 - 3x+4$, which agrees with $f(x)$. The other two results agree with $f(4) = 8$ and $f(5) = 14$. Thus, this test run has no errors and we can have a bit of confidence in this code."
   ]
  },
  {
   "cell_type": "markdown",
   "metadata": {},
   "source": [
    "# b.\n",
    "Now we want to consider $f(x) = e^{-x^2}$, so we first need to code it."
   ]
  },
  {
   "cell_type": "code",
   "execution_count": 5,
   "metadata": {},
   "outputs": [],
   "source": [
    "# INPUT: a real-valued x\n",
    "# OUTPUT: f(x)\n",
    "def f(x):\n",
    "    return(math.e ** (-x * x))"
   ]
  },
  {
   "cell_type": "markdown",
   "metadata": {},
   "source": [
    "Now we code our node set in the interval $[-1,1]$."
   ]
  },
  {
   "cell_type": "code",
   "execution_count": 6,
   "metadata": {},
   "outputs": [],
   "source": [
    "# note set\n",
    "n = []\n",
    "for i in range(11):\n",
    "    n.append(-1 + (2.0 * i / 10))"
   ]
  },
  {
   "cell_type": "markdown",
   "metadata": {},
   "source": [
    "Then we use our functions from part (a) to get the interpolating polynomial evaluated at such nodes, storing this information in the list xbar."
   ]
  },
  {
   "cell_type": "code",
   "execution_count": 7,
   "metadata": {},
   "outputs": [],
   "source": [
    "# evaluate f at each node\n",
    "fj = []\n",
    "for i in n:\n",
    "    fj.append(f(i))\n",
    "\n",
    "# get Newton coefficients\n",
    "cj = newton_coef(n, fj)\n",
    "\n",
    "# to store the values of the interpolating polynomial at each node\n",
    "xbar = []\n",
    "for i in range(101):\n",
    "    xbar.append(inter_poly(cj, n, -1 + (2.0 * i / 100)))"
   ]
  },
  {
   "cell_type": "markdown",
   "metadata": {},
   "source": [
    "Now, we plot the error. "
   ]
  },
  {
   "cell_type": "code",
   "execution_count": 8,
   "metadata": {},
   "outputs": [
    {
     "data": {
      "text/plain": [
       "[<matplotlib.lines.Line2D at 0x11495d940>]"
      ]
     },
     "execution_count": 8,
     "metadata": {},
     "output_type": "execute_result"
    },
    {
     "data": {
      "image/png": "[encoded data removed]",
      "text/plain": [
       "<Figure size 432x288 with 1 Axes>"
      ]
     },
     "metadata": {
      "needs_background": "light"
     },
     "output_type": "display_data"
    }
   ],
   "source": [
    "x_val = []\n",
    "y_val = []\n",
    "for i in range(101):\n",
    "    x_val.append(-1 + (2.0 * i / 100))\n",
    "    y_val.append(f(x_val[i]) - xbar[i])\n",
    "plt.plot(x_val, y_val)"
   ]
  },
  {
   "cell_type": "markdown",
   "metadata": {},
   "source": [
    "# 2.\n",
    "\n",
    "See attached."
   ]
  },
  {
   "cell_type": "markdown",
   "metadata": {},
   "source": [
    "# 3.\n",
    "\n",
    "We have the four interpolation points: $(0, 1), (1, 1), (2, 0), (3, 10)$. So, in total we must have at most 3 intervals for $x$. First we consider when $x \\in [0,1)$. Then the slope must be\n",
    "\n",
    "$$\\frac{1-1}{1-0} = 0.$$\n",
    "\n",
    "Putting this information into point-slope form for a line, we get $p_1 - 1 = 0$, or $p_1 = 1$.\n",
    "\n",
    "Now, we consider when $x \\in [1,2)$. Then the slope must be\n",
    "\n",
    "$$\\frac{0-1}{2-1} = -1.$$\n",
    "\n",
    "Putting this information into point-slope form for a line, we get $p_2 = -(x-2)$, or $p_2 = 2 - x$.\n",
    "\n",
    "Lastly, we consider when $x \\in [2,3]$. Then the slope must be\n",
    "\n",
    "$$\\frac{10-0}{3-2} = 10.$$\n",
    "\n",
    "Putting this information into point-slope form for a line, we get $p_3 - 0 = 10(x-2)$, or $p_3 = 10x - 20$.\n",
    "\n",
    "Therefore, our piecewise linear function interpolating $(0, 1), (1, 1), (2, 0), (3, 10)$ is\n",
    "\n",
    "$$p(x) = \\begin{cases}\n",
    "1, \\quad x \\in [0,1) \\\\\n",
    "2 - x, \\quad x \\in [1,2) \\\\\n",
    "10x - 20, \\quad x \\in [2,3] \n",
    "\\end{cases}.$$"
   ]
  },
  {
   "cell_type": "markdown",
   "metadata": {},
   "source": [
    "# 4."
   ]
  },
  {
   "cell_type": "markdown",
   "metadata": {},
   "source": [
    "Now we want to solve the tridiagonal system $Az = d$."
   ]
  },
  {
   "cell_type": "code",
   "execution_count": 198,
   "metadata": {},
   "outputs": [],
   "source": [
    "# INPUT: the two interpolating lists, x_i and f_i\n",
    "# OUTPUT: the cubic splines for each interval\n",
    "def nat_cubic_spline(xi, fi):\n",
    "    # first we compute the values for a, b, c, d, and h and store them\n",
    "    a = []\n",
    "    b = []\n",
    "    c = []\n",
    "    d = []\n",
    "    h = []\n",
    "    for i in range(len(xi)-1):\n",
    "        h.append(float(xi[i+1] - xi[i]))\n",
    "        if(i > 0):\n",
    "            if(i < len(xi) - 2):\n",
    "                b.append(float(h[i]))\n",
    "                c.append(float(h[i-1]))\n",
    "            a.append(2.0 * (h[i-1] + h[i]))\n",
    "            d.append((-6.0 * (fi[i] - fi[i-1]) / h[i-1]) + (6.0 * (fi[i+1] - fi[i]) / h[i]))\n",
    "            \n",
    "    # next, we determine the factorization coefficients\n",
    "    m = [a[0]]\n",
    "    l = []\n",
    "    for i in range(len(xi) - 3):\n",
    "        l.append(c[i] / m[i])\n",
    "        m.append(a[i+1] - (l[i] * b[i]))\n",
    "    \n",
    "    # then, we do the forward substitution on Ly = d\n",
    "    y = [d[0]]\n",
    "    for i in range(1,len(xi)-2):\n",
    "        y.append(d[i] - (l[i-1] * y[i-1]))\n",
    "        \n",
    "    # lastly, we do backward substitution to solve Uz = y\n",
    "    z = [y[-1] / m[-1]]\n",
    "    for i in range(len(xi)-3):\n",
    "        z.insert(0, 0)\n",
    "    for i in range(len(xi) - 4, -1, -1):\n",
    "        z[i] = (y[i] - (b[i] * z[i+1])) / m[i]\n",
    "    \n",
    "    # since we are calculating, the natural spline, add 0's at the beginning and end\n",
    "    z = [0] + z + [0] \n",
    "    \n",
    "    # Now we calculate the coefficients\n",
    "    for i in range(len(h)):\n",
    "        print(\"s_\",i,\"(x)=\", \n",
    "              (z[i+1]-z[i])/(6.0 * h[i]), \"(x-\", xi[i], \")^3 + (\",\n",
    "              (z[i] / 2.0), \")(x-\", xi[i], \")^2 + (\",\n",
    "              ((fi[i+1] - fi[i])/(h[i])) - ((z[i+1] + 2 * z[i])* h[i] / 6.0), \")(x-\", xi[i], \") + (\",\n",
    "              fi[i], \")\", sep = \"\")"
   ]
  },
  {
   "cell_type": "markdown",
   "metadata": {},
   "source": [
    "# 5.\n",
    "\n",
    "We load in the data."
   ]
  },
  {
   "cell_type": "code",
   "execution_count": 199,
   "metadata": {},
   "outputs": [],
   "source": [
    "t = [0, 0.618, 0.935, 1.255, 1.636, 1.905, 2.317, 2.827, 3.330]\n",
    "x = [1.50, 0.90, 0.60, 0.35, 0.20, 0.10, 0.50, 1.00, 1.50]\n",
    "y = [0.75, 0.90, 1.00, 0.80, 0.45, 0.20, 0.10, 0.20, 0.25]"
   ]
  },
  {
   "cell_type": "markdown",
   "metadata": {},
   "source": [
    "Now we calculate the two splines."
   ]
  },
  {
   "cell_type": "code",
   "execution_count": 200,
   "metadata": {},
   "outputs": [
    {
     "name": "stdout",
     "output_type": "stream",
     "text": [
      "s_0(x)=0.010604214860542438(x-0)^3 + (0.0)(x-0)^2 + (-0.9749237905641648)(x-0) + (1.5)\n",
      "s_1(x)=0.10119764748309755(x-0.618)^3 + (0.01966021435144568)(x-0.618)^2 + (-0.9627737780949713)(x-0.618) + (0.9)\n",
      "s_2(x)=0.9715931590617196(x-0.935)^3 + (0.11589917710787148)(x-0.935)^2 + (-0.9178288761624392)(x-0.935) + (0.6)\n",
      "s_3(x)=-1.7079822005314005(x-1.255)^3 + (1.0486286098071218)(x-1.255)^2 + (-0.5452958835267495)(x-1.255) + (0.35)\n",
      "s_4(x)=5.288485038495574(x-1.636)^3 + (-0.903595045400269)(x-1.636)^2 + (-0.5113602105538169)(x-1.636) + (0.2)\n",
      "s_5(x)=-3.134092233191061(x-1.905)^3 + (3.364212380665662)(x-1.905)^2 + (0.11681163760429725)(x-1.905) + (0.1)\n",
      "s_6(x)=0.41395013380310053(x-2.317)^3 + (-0.5095256195584906)(x-2.317)^2 + (1.1325817930353892)(x-2.317) + (0.5)\n",
      "s_7(x)=-0.08205307167677461(x-2.827)^3 + (0.12381808516025292)(x-2.827)^2 + (0.9525154540645321)(x-2.827) + (1.0)\n"
     ]
    }
   ],
   "source": [
    "# note that these are functions of t in this case and s_i(x) = x\n",
    "nat_cubic_spline(t,x) "
   ]
  },
  {
   "cell_type": "code",
   "execution_count": 201,
   "metadata": {},
   "outputs": [
    {
     "name": "stdout",
     "output_type": "stream",
     "text": [
      "s_0(x)=0.289737015939865(x-0)^3 + (0.0)(x-0)^2 + (0.13206092652612478)(x-0) + (0.75)\n",
      "s_1(x)=-3.1730809644688476(x-0.618)^3 + (0.5371724275525097)(x-0.618)^2 + (0.4640334867535758)(x-0.618) + (0.9)\n",
      "s_2(x)=2.605653470243342(x-0.935)^3 + (-2.480427569657365)(x-0.935)^2 + (-0.09808209306256177)(x-0.935) + (1.0)\n",
      "s_3(x)=-0.3032323821519493(x-1.255)^3 + (0.020999761776241795)(x-1.255)^2 + (-0.8826185640148636)(x-1.255) + (0.8)\n",
      "s_4(x)=2.1740063481666834(x-1.636)^3 + (-0.32559485102343627)(x-1.636)^2 + (-0.9990962881741616)(x-1.636) + (0.45)\n",
      "s_5(x)=-0.6887645842772723(x-1.905)^3 + (1.428828271947078)(x-1.905)^2 + (-0.7144820390505766)(x-1.905) + (0.2)\n",
      "s_6(x)=-0.5477829806449837(x-2.317)^3 + (0.5775152457803692)(x-2.317)^2 + (0.04402400929032105)(x-2.317) + (0.1)\n",
      "s_7(x)=0.17269232246948663(x-2.827)^3 + (-0.2605927146064554)(x-2.827)^2 + (0.1867890021601917)(x-2.827) + (0.2)\n"
     ]
    }
   ],
   "source": [
    "# note that these are functions of t in this case and s_i(x) = y\n",
    "nat_cubic_spline(t,y)"
   ]
  },
  {
   "cell_type": "code",
   "execution_count": 205,
   "metadata": {},
   "outputs": [
    {
     "data": {
      "text/plain": [
       "[<matplotlib.lines.Line2D at 0x114e02e48>]"
      ]
     },
     "execution_count": 205,
     "metadata": {},
     "output_type": "execute_result"
    },
    {
     "data": {
      "image/png": "[encoded data removed]",
      "text/plain": [
       "<Figure size 432x288 with 1 Axes>"
      ]
     },
     "metadata": {
      "needs_background": "light"
     },
     "output_type": "display_data"
    }
   ],
   "source": [
    "t_val = []\n",
    "x_val = []\n",
    "y_val = []\n",
    "for i in range(1001):\n",
    "    t_val.append(3.330 * i / 1000)\n",
    "    # s_0\n",
    "    if (t_val[i] >= t[0] and t_val[i] < t[1]):\n",
    "        x_val.append((0.010604214860542438 * (t_val[i] ** 3)) + (-0.9749237905641648 * t_val[i]) + (1.5))\n",
    "        y_val.append((0.289737015939865 * (t_val[i] ** 3)) + (0.13206092652612478 * t_val[i]) + (0.75))\n",
    "    #s_1\n",
    "    elif (t_val[i] >= t[1] and t_val[i] < t[2]):\n",
    "        x_val.append((0.10119764748309755 * ((t_val[i]-0.618) ** 3)) + (0.01966021435144568 * ((t_val[i]-0.618) ** 2)) + (-0.9627737780949713 * (t_val[i]-0.618)) + (0.9))\n",
    "        y_val.append((-3.1730809644688476 * ((t_val[i]-0.618) ** 3)) + (0.5371724275525097 * ((t_val[i]-0.618) ** 2)) + (0.4640334867535758 * (t_val[i]-0.618)) + (0.9))\n",
    "    #s_2\n",
    "    elif (t_val[i] >= t[2] and t_val[i] < t[3]):\n",
    "        x_val.append((0.9715931590617196 * ((t_val[i]-0.935) ** 3)) + (0.11589917710787148 * ((t_val[i]-0.935) ** 2)) + (-0.9178288761624392 * (t_val[i]-0.935)) + (0.6))\n",
    "        y_val.append((2.605653470243342 * ((t_val[i]-0.935) ** 3)) + (-2.480427569657365 * ((t_val[i]-0.935) ** 2)) + (-0.09808209306256177 * (t_val[i]-0.935)) + (1.0))\n",
    "    #s_3\n",
    "    elif (t_val[i] >= t[3] and t_val[i] < t[4]):\n",
    "        x_val.append((-1.7079822005314005 * ((t_val[i]-1.255) ** 3)) + (1.0486286098071218 * ((t_val[i]-1.255) ** 2)) + (-0.5452958835267495 * (t_val[i]-1.255)) + (0.35))\n",
    "        y_val.append((-0.3032323821519493 * ((t_val[i]-1.255) ** 3)) + (0.020999761776241795 * ((t_val[i]-1.255) ** 2)) + (-0.8826185640148636 * (t_val[i]-1.255)) + (0.8))\n",
    "    #s_4\n",
    "    elif (t_val[i] >= t[4] and t_val[i] < t[5]):\n",
    "        x_val.append((5.288485038495574 * ((t_val[i]-1.636) ** 3)) + (-0.903595045400269 * ((t_val[i]-1.636) ** 2)) + (-0.5113602105538169 * (t_val[i]-1.636)) + (0.2))\n",
    "        y_val.append((2.1740063481666834 * ((t_val[i]-1.636) ** 3)) + (-0.32559485102343627 * ((t_val[i]-1.636) ** 2)) + (-0.9990962881741616 * (t_val[i]-1.636)) + (0.45))\n",
    "    #s_5\n",
    "    elif (t_val[i] >= t[5] and t_val[i] < t[6]):\n",
    "        x_val.append((-3.134092233191061 * ((t_val[i]-1.905) ** 3)) + (3.364212380665662 * ((t_val[i]-1.905) ** 2)) + (0.11681163760429725 * (t_val[i]-1.905)) + (0.1))\n",
    "        y_val.append((-0.6887645842772723 * ((t_val[i]-1.905) ** 3)) + (1.428828271947078 * ((t_val[i]-1.905) ** 2)) + (-0.7144820390505766 * (t_val[i]-1.905)) + (0.2))\n",
    "    #s_6\n",
    "    elif (t_val[i] >= t[6] and t_val[i] < t[7]):\n",
    "        x_val.append((0.41395013380310053 * ((t_val[i]-2.317) ** 3)) + (-0.5095256195584906 * ((t_val[i]-2.317) ** 2)) + (1.1325817930353892 * (t_val[i]-2.317)) + (0.5))\n",
    "        y_val.append((-0.5477829806449837 * ((t_val[i]-2.317) ** 3)) + (0.5775152457803692 * ((t_val[i]-2.317) ** 2)) + (0.04402400929032105 * (t_val[i]-2.317)) + (0.1))\n",
    "    #s_7\n",
    "    elif (t_val[i] >= t[7] and t_val[i] <= t[8]):\n",
    "        x_val.append((-0.08205307167677461 * ((t_val[i]-2.827) ** 3)) + (0.12381808516025292 * ((t_val[i]-2.827) ** 2)) + (0.9525154540645321 * (t_val[i]-2.827)) + (1.0))\n",
    "        y_val.append((0.17269232246948663 * ((t_val[i]-2.827) ** 3)) + (-0.2605927146064554 * ((t_val[i]-2.827) ** 2)) + (0.1867890021601917 * (t_val[i]-2.827)) + (0.2))\n",
    "plt.plot(x_val, y_val)"
   ]
  }
 ],
 "metadata": {
  "kernelspec": {
   "display_name": "Python 3",
   "language": "python",
   "name": "python3"
  },
  "language_info": {
   "codemirror_mode": {
    "name": "ipython",
    "version": 3
   },
   "file_extension": ".py",
   "mimetype": "text/x-python",
   "name": "python",
   "nbconvert_exporter": "python",
   "pygments_lexer": "ipython3",
   "version": "3.7.0a4"
  }
 },
 "nbformat": 4,
 "nbformat_minor": 2
}
