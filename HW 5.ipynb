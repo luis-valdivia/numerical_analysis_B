{
 "cells": [
  {
   "cell_type": "markdown",
   "metadata": {},
   "source": [
    "Last modified Jul. 24, 2020 by Luis Valdivia"
   ]
  },
  {
   "cell_type": "code",
   "execution_count": 6,
   "metadata": {},
   "outputs": [],
   "source": [
    "# we will need these eventually\n",
    "import matplotlib.pyplot as plt \n",
    "import numpy as np\n",
    "import math\n",
    "import cmath"
   ]
  },
  {
   "cell_type": "markdown",
   "metadata": {},
   "source": [
    "# 1.\n",
    "\n",
    "Checking the implementation, (1) is the right equation.\n",
    "\n",
    "For reference:\n",
    "https://numpy.org/doc/stable/reference/routines.fft.html"
   ]
  },
  {
   "cell_type": "markdown",
   "metadata": {},
   "source": [
    "# 2. \n",
    "\n",
    "Checking the implementation, (5) is the right equation.\n",
    "\n",
    "For reference:\n",
    "https://numpy.org/doc/stable/reference/routines.fft.html "
   ]
  },
  {
   "cell_type": "markdown",
   "metadata": {},
   "source": [
    "# 3. \n",
    "\n",
    "Suppose $f_j$ is real for $j = 0, \\dots, N-1$. From problem 1,\n",
    "\n",
    "$$c_k = \\sum_{j=0}^{N-1} f_j e^{-i2\\pi k j/N}. $$\n",
    "\n",
    "If $k =0$, $e^{-i2\\pi k j/N} = e^0 = 1$, so we get\n",
    "\n",
    "$$ c_0 = \\sum_{j=0}^{N-1} f_j, $$ \n",
    "\n",
    "which is the sum of real numbers, and since the reals are closed under addition, $c_0$ must be real. \n",
    "\n",
    "For the second part of the proof, substitute $N-k$ for $k$ into the equation for $c_k$ to get\n",
    "\n",
    "$$c_{N-k} = \\sum_{j=0}^{N-1} f_j e^{-i2\\pi (N-k) j/N} $$\n",
    "\n",
    "$$ = \\sum_{j=0}^{N-1} f_j e^{i2\\pi (k/N - 1) j} $$\n",
    "\n",
    "$$ = \\sum_{j=0}^{N-1} f_j e^{i2\\pi k j / N} e^{-i2\\pi j}. $$\n",
    "\n",
    "Since $j$ is an integer, $e^{-i2\\pi j} = 1$, so we get\n",
    "\n",
    "$$ c_{N-k} = \\sum_{j=0}^{N-1} f_j e^{i2\\pi k j / N}. $$\n",
    "\n",
    "Call that equation (i). Now we compute $\\overline{c_k}$. Recall that complex conjugation distributes over addition and multiplication so \n",
    "\n",
    "$$ \\overline{c_k} = \\overline{\\sum_{j=0}^{N-1} f_j e^{-i2\\pi k j/N}} $$\n",
    "\n",
    "$$  = \\sum_{j=0}^{N-1} \\overline{f_j e^{-i2\\pi k j/N}} $$\n",
    "\n",
    "$$  = \\sum_{j=0}^{N-1} \\overline{f_j} \\overline{e^{-i2\\pi k j/N}} $$\n",
    "\n",
    "$$  = \\sum_{j=0}^{N-1} \\overline{f_j} e^{i2\\pi k j/N} $$\n",
    "\n",
    "and since the reals are invariant under complex conjugation,\n",
    "\n",
    "$$  = \\sum_{j=0}^{N-1} f_j e^{i2\\pi k j/N}. $$\n",
    "\n",
    "This is precisely the same as equation (i), so $c_{N-k} = \\overline{c_k}$."
   ]
  },
  {
   "cell_type": "markdown",
   "metadata": {},
   "source": [
    "# 4. \n",
    "\n",
    "Comparing the coefficients we see that $a_k = \\frac{2}{N} Re(c_k)$ for $k = 0,\\dots \\frac{N}{2}$ and $b_k = \\frac{-2}{N} Im(c_k)$ for $k = 1,\\dots \\frac{N}{2} - 1$. We implement code to extract $a_k$ and $b_k$ from $c_k$ below."
   ]
  },
  {
   "cell_type": "code",
   "execution_count": 7,
   "metadata": {},
   "outputs": [],
   "source": [
    "# INPUT: periodic array f_j\n",
    "# OUTPUT: real Fourier coefficients, a_k and b_k\n",
    "def fft_poly(fj):\n",
    "    ak = []\n",
    "    bk = []\n",
    "    ck = np.fft.fft(fj)\n",
    "    ak.append(2 * ck[0].real / len(fj))\n",
    "    for i in range(1, len(fj)//2):\n",
    "        ak.append(2 * ck[i].real / len(fj))\n",
    "        bk.append(-2 * ck[i].imag / len(fj))\n",
    "    ak.append(2 * ck[len(fj)//2].real / len(fj))\n",
    "    print(\"a_k = \", ak)\n",
    "    print(\"b_k = \", bk)"
   ]
  },
  {
   "cell_type": "markdown",
   "metadata": {},
   "source": [
    "# 5."
   ]
  },
  {
   "cell_type": "markdown",
   "metadata": {},
   "source": [
    "We load in our data and get the coefficients"
   ]
  },
  {
   "cell_type": "code",
   "execution_count": 8,
   "metadata": {},
   "outputs": [
    {
     "name": "stdout",
     "output_type": "stream",
     "text": [
      "a_k =  [1.9999999999999991, 1.9999999999999991, 3.0, 8.881784197001252e-16, 8.881784197001252e-16]\n",
      "b_k =  [4.0, 5.000000000000001, -0.0]\n"
     ]
    }
   ],
   "source": [
    "fj = [6.000000000000000, 10.242640687119284, 2.000000000000000, -2.585786437626905, 2.000000000000000, 1.757359312880716, -6.000000000000000, -5.414213562373098]\n",
    "\n",
    "fft_poly(fj)"
   ]
  },
  {
   "cell_type": "markdown",
   "metadata": {},
   "source": [
    "So we get that(we ignore the tiny coefficients) \n",
    "\n",
    "$$P_8(x) = \\frac{2}{2} + \\sum_{k=1}^{3} (a_k \\cos kx + b_k \\sin kx) + \\frac{0}{2} \\cos 4x $$\n",
    "\n",
    "$$ = 1 + 2 \\cos x + 4 \\sin x\n",
    "+ 3 \\cos 2x + 5 \\sin 2x\n",
    "+ 0 \\cos 3x + 0 \\sin 3x$$\n",
    "\n",
    "$$ = 1 + 2 \\cos x + 4 \\sin x + 3 \\cos 2x + 5 \\sin 2x.$$"
   ]
  },
  {
   "cell_type": "markdown",
   "metadata": {},
   "source": [
    "If we want to graph it,"
   ]
  },
  {
   "cell_type": "code",
   "execution_count": 9,
   "metadata": {},
   "outputs": [
    {
     "data": {
      "text/plain": [
       "[<matplotlib.lines.Line2D at 0x114b279e8>]"
      ]
     },
     "execution_count": 9,
     "metadata": {},
     "output_type": "execute_result"
    },
    {
     "data": {
      "image/png": "[encoded data removed]",
      "text/plain": [
       "<Figure size 432x288 with 1 Axes>"
      ]
     },
     "metadata": {
      "needs_background": "light"
     },
     "output_type": "display_data"
    }
   ],
   "source": [
    "x_val = []\n",
    "y_val = []\n",
    "for i in range(501):\n",
    "    x_val.append(2.0 * math.pi * i / 500)\n",
    "    y_val.append(1 + 2 * math.cos(x_val[i]) + 4 * math.sin(x_val[i]) + 3 * math.cos(2 * x_val[i]) + 5 * math.sin(2 * x_val[i]))\n",
    "plt.plot(x_val, y_val)"
   ]
  },
  {
   "cell_type": "markdown",
   "metadata": {},
   "source": [
    "# 6.\n",
    "\n",
    "We edit our previous Fourier coefficient calculator by recalling that the coefficients for the first derivative are $i k c_k$."
   ]
  },
  {
   "cell_type": "code",
   "execution_count": 10,
   "metadata": {},
   "outputs": [],
   "source": [
    "# INPUT: periodic array f_j\n",
    "# OUTPUT: real Fourier coeffcients, a_k and b_k\n",
    "def fft_prime_poly(fj):\n",
    "    ak = []\n",
    "    bk = []\n",
    "    ck = np.fft.fft(fj)\n",
    "    ak.append(0)\n",
    "    for i in range(1, len(fj)//2):\n",
    "        ak.append(2 * (ck[i] * i * 1j).real / len(fj))\n",
    "        bk.append(-2 * (ck[i] * i * 1j).imag / len(fj))\n",
    "    ak.append(2 * (ck[len(fj)//2] * len(fj)//2 * 1j).real / len(fj))\n",
    "    print(\"a_k = \", ak)\n",
    "    print(\"b_k = \", bk) "
   ]
  },
  {
   "cell_type": "markdown",
   "metadata": {},
   "source": [
    "We define the function $f$ that we will be working with."
   ]
  },
  {
   "cell_type": "code",
   "execution_count": 11,
   "metadata": {},
   "outputs": [],
   "source": [
    "# INPUT: real-valued x\n",
    "# OUTPUT: e^sin(x)\n",
    "def e_sin(x):\n",
    "    return math.exp(math.sin(x))"
   ]
  },
  {
   "cell_type": "markdown",
   "metadata": {},
   "source": [
    "We compute the nodes and $f$ evaluated at those nodes, storing the values. Then using the later we get the coefficients $a_k$ and $b_k$."
   ]
  },
  {
   "cell_type": "code",
   "execution_count": 12,
   "metadata": {},
   "outputs": [
    {
     "name": "stdout",
     "output_type": "stream",
     "text": [
      "a_k =  [0, 1.1303214174582041, -2.220446049250313e-16, -0.13463932855679173, 0.0]\n",
      "b_k =  [1.1102230246251565e-16, 0.5430806348152437, -0.0]\n"
     ]
    }
   ],
   "source": [
    "fj = []\n",
    "xj = []\n",
    "\n",
    "for i in range(8):\n",
    "    xj.append(2 * math.pi * i / 8)\n",
    "    fj.append(e_sin(xj[i]))\n",
    "\n",
    "fft_prime_poly(fj)"
   ]
  },
  {
   "cell_type": "markdown",
   "metadata": {},
   "source": [
    "Now we compute the actual error. To do so, we calculate $f'(x) = \\cos x e^{\\sin x} = \\cos x f(x)$, so we can reuse the $fj$ values. From this, we subtract $P_8(x_j)$."
   ]
  },
  {
   "cell_type": "code",
   "execution_count": 13,
   "metadata": {},
   "outputs": [
    {
     "name": "stdout",
     "output_type": "stream",
     "text": [
      "0.00431791109858759\n",
      "-0.003449099708283332\n",
      "5.993492201241094e-18\n",
      "0.003449099708283221\n",
      "-0.0043179110985876795\n",
      "0.00272947135040269\n",
      "1.473226077804521e-17\n",
      "-0.00272947135040269\n"
     ]
    }
   ],
   "source": [
    "for i in range(len(xj)):\n",
    "    print((math.cos(xj[i]) * fj[i]) - 1.1303214174582041 * math.cos(xj[i]) + 0.13463932855679173 * math.cos(3 * xj[i]) - 0.5430806348152437 * math.sin(2 * xj[i]))"
   ]
  },
  {
   "cell_type": "markdown",
   "metadata": {},
   "source": [
    "# 7.\n",
    "\n",
    "# a."
   ]
  },
  {
   "cell_type": "markdown",
   "metadata": {},
   "source": [
    "We create another function for computing the derivative at a node."
   ]
  },
  {
   "cell_type": "code",
   "execution_count": 14,
   "metadata": {},
   "outputs": [],
   "source": [
    "# INPUT: periodic array f_j\n",
    "# OUTPUT: f' evaluated at the nodes\n",
    "def fft_prime_2(fj):\n",
    "    ck = np.fft.fft(fj)\n",
    "    for k in range(len(fj)//2):\n",
    "        ck[k] = (ck[k] * k * 1j)\n",
    "    for k in range(len(fj)//2, len(fj)):\n",
    "        ck[k] = (ck[k] * (k - len(fj)) * 1j)   # N/2 will be 0  \n",
    "    return (np.fft.ifft(ck).real)"
   ]
  },
  {
   "cell_type": "markdown",
   "metadata": {},
   "source": [
    "# b.\n",
    "\n",
    "We now test it by comparing calculating the error."
   ]
  },
  {
   "cell_type": "code",
   "execution_count": 15,
   "metadata": {},
   "outputs": [
    {
     "name": "stdout",
     "output_type": "stream",
     "text": [
      "0.004317911098587812\n",
      "-0.003449099708283443\n",
      "-1.6662015036740776e-16\n",
      "0.003449099708283221\n",
      "-0.00431791109858759\n",
      "0.002729471350402801\n",
      "-1.7860065947792422e-16\n",
      "-0.0027294713504027457\n"
     ]
    }
   ],
   "source": [
    "fpj = []\n",
    "fj = []\n",
    "xj = []\n",
    "\n",
    "for i in range(8):\n",
    "    xj.append(2 * math.pi * i / 8)\n",
    "    fj.append(e_sin(xj[i]))\n",
    "    fpj.append(math.cos(xj[i]) * e_sin(xj[i]))\n",
    "\n",
    "for i in range(len(xj)):\n",
    "    print((fpj[i]) - fft_prime_2(fj)[i])"
   ]
  },
  {
   "cell_type": "markdown",
   "metadata": {},
   "source": [
    "Scrolling up, we see that the errors are mostly similar, differing more with the smallest values."
   ]
  },
  {
   "cell_type": "markdown",
   "metadata": {},
   "source": [
    "# c.\n",
    "\n",
    "Now we observe what happens with $N = 16$."
   ]
  },
  {
   "cell_type": "code",
   "execution_count": 20,
   "metadata": {},
   "outputs": [
    {
     "name": "stdout",
     "output_type": "stream",
     "text": [
      "1.761893129170744e-07\n"
     ]
    }
   ],
   "source": [
    "fpj = []\n",
    "fj = []\n",
    "xj = []\n",
    "\n",
    "for i in range(16):\n",
    "    xj.append(2 * math.pi * i / 16)\n",
    "    fj.append(e_sin(xj[i]))\n",
    "    fpj.append(math.cos(xj[i]) * e_sin(xj[i]))\n",
    "\n",
    "rem = []\n",
    "for i in range(len(xj)):\n",
    "    rem.append(abs((fpj[i]) - fft_prime_2(fj)[i]))\n",
    "    \n",
    "print(max(rem))"
   ]
  },
  {
   "cell_type": "markdown",
   "metadata": {},
   "source": [
    "Lastly, we look at $N = 32$."
   ]
  },
  {
   "cell_type": "code",
   "execution_count": 19,
   "metadata": {},
   "outputs": [
    {
     "name": "stdout",
     "output_type": "stream",
     "text": [
      "3.4416913763379853e-15\n"
     ]
    }
   ],
   "source": [
    "fpj = []\n",
    "fj = []\n",
    "xj = []\n",
    "\n",
    "for i in range(32):\n",
    "    xj.append(2 * math.pi * i / 32)\n",
    "    fj.append(e_sin(xj[i]))\n",
    "    fpj.append(math.cos(xj[i]) * e_sin(xj[i]))\n",
    "\n",
    "rem = []\n",
    "for i in range(len(xj)):\n",
    "    rem.append(abs((fpj[i]) - fft_prime_2(fj)[i]))\n",
    "print(max(rem))"
   ]
  },
  {
   "cell_type": "markdown",
   "metadata": {},
   "source": [
    "As we doubled $N$, the error shrunk significantly. The first two terms are practically indistinguishable in the $N=32$ case, and most errors are close to $1 \\times 10^{-15}$. Even in the $N = 16$ case, the errors were already small enough for most practical usage."
   ]
  }
 ],
 "metadata": {
  "kernelspec": {
   "display_name": "Python 3",
   "language": "python",
   "name": "python3"
  },
  "language_info": {
   "codemirror_mode": {
    "name": "ipython",
    "version": 3
   },
   "file_extension": ".py",
   "mimetype": "text/x-python",
   "name": "python",
   "nbconvert_exporter": "python",
   "pygments_lexer": "ipython3",
   "version": "3.7.0a4"
  }
 },
 "nbformat": 4,
 "nbformat_minor": 2
}
