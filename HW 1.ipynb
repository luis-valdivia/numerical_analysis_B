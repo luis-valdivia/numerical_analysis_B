{
 "cells": [
  {
   "cell_type": "markdown",
   "metadata": {},
   "source": [
    "Last modified Jun. 26, 2020 by Luis Valdivia"
   ]
  },
  {
   "cell_type": "markdown",
   "metadata": {},
   "source": [
    "# 1.\n",
    "# The Intermediate Value Theorem\n",
    "If $f$ is continuous on the interval $[a,b]$, then there exists a $c \\in (a,b)$ such that $f(a) < f(c) < f(b)$.\n",
    "\n",
    "\n",
    "# The Mean Value Theorem\n",
    "If $f$ is continuous on the interval $[a,b]$ and differentiable on $(a,b)$, then there exists a $c \\in (a,b)$ such that\n",
    "\n",
    "$$f'(c) = \\frac{f(b) - f(a)}{b-a}.$$\n",
    "\n",
    "\n",
    "# Rolle’s Theorem\n",
    "If $f$ is continuous on the interval $[a,b]$, differentiable on $(a,b)$, and $f(a) = f(b)$, then there exists a $c \\in (a,b)$ such that $f(c) = 0$.\n",
    "\n",
    "\n",
    "# The Mean Value Theorem for Integrals\n",
    "If $f$ is continuous on the interval $[a,b]$, then there exists a $c \\in (a,b)$ such that\n",
    "\n",
    "$$f(c) = \\frac{1}{b-a} \\int_a^b f(x) dx.$$\n",
    "\n",
    "\n",
    "# The Weighted Mean Value Theorem for Integrals\n",
    "If $f$ is continuous on the interval $[a,b]$, and $g$ is integrable and constant sign on $[a,b]$, then then there exists a $c \\in (a,b)$ such that\n",
    "\n",
    "$$\\int_a^b f(x)g(x) dx = f(c) \\int_a^b g(x) dx.$$"
   ]
  },
  {
   "cell_type": "markdown",
   "metadata": {},
   "source": [
    "# 2.\n",
    "\n",
    "We implement the Composite Trapezoidal Rule(CTR) quadrature as follows:"
   ]
  },
  {
   "cell_type": "code",
   "execution_count": 194,
   "metadata": {},
   "outputs": [],
   "source": [
    "# INPUT: integral limits a and b, number of sub-intervals n and the integrand f\n",
    "# OUPUT: CTR approximation for the integral of f from a to b\n",
    "def ctr(a,b,N,f):\n",
    "    h = (float(b) - a) / N\n",
    "    sum = 0.5 * (f(a) + f(b))\n",
    "    for i in range(1,N):\n",
    "        sum += f(a + i * h)\n",
    "    return sum * h"
   ]
  },
  {
   "cell_type": "markdown",
   "metadata": {},
   "source": [
    "# a.\n",
    "Now we test our CTR approximation with \n",
    "$$ f(x) = \\frac{1}{(1+x)^2}$$\n",
    "in $[0,2]$. First we define $f$ as follows:"
   ]
  },
  {
   "cell_type": "code",
   "execution_count": 195,
   "metadata": {},
   "outputs": [],
   "source": [
    "# INPUT: x\n",
    "# OUPUT: f(x)\n",
    "def f(x):\n",
    "    return float(1) / ((1 + x) ** 2)"
   ]
  },
  {
   "cell_type": "markdown",
   "metadata": {},
   "source": [
    "We are considering the interval $[0,2]$ with $h = \\frac{2}{20}, \\frac{2}{40}, \\frac{2}{80}$, so $a = 0$, $b = 2$, and $n = 20, 40, 80$.\n",
    "We can calculate\n",
    "\n",
    "$$ I[f] = \\int_0^2 \\frac{1}{(1+x)^2} dx = \\frac{-1}{1+x} \\bigg|_0^2 = \\frac{-1}{3} + 1 = \\frac{2}{3}.$$\n",
    "\n",
    "Then, we want to verify second order accuracy (in $h$). So, we need to calculate $e_h = |I[f] - T_h[f]|$, where we double each subsequent $h$. Since we are doubling $h$, we want the ratios $\\frac{e_0}{e_1}$ and $\\frac{e_1}{e_2}$ to be close to 4."
   ]
  },
  {
   "cell_type": "code",
   "execution_count": 196,
   "metadata": {},
   "outputs": [
    {
     "name": "stdout",
     "output_type": "stream",
     "text": [
      "[0.001601642128346903, 0.0004010274624657306, 0.0001002956805309374]\n"
     ]
    }
   ],
   "source": [
    "# make a list to store the e_h's\n",
    "check = []\n",
    "\n",
    "# add the values to the list\n",
    "for n in [20, 40, 80]:\n",
    "    check.append(abs(float(2) / 3 - ctr(0, 2, n, f)))\n",
    "\n",
    "# observe the values in the list for signs of convergence, i.e. they keep getting closer to 0\n",
    "print(check)"
   ]
  },
  {
   "cell_type": "code",
   "execution_count": 197,
   "metadata": {},
   "outputs": [
    {
     "name": "stdout",
     "output_type": "stream",
     "text": [
      "3.993846502429418\n",
      "3.9984519806117564\n"
     ]
    }
   ],
   "source": [
    "# observe the ratios\n",
    "for i in range(0,len(check) - 1): \n",
    "    print(check[i]/ check[i + 1])"
   ]
  },
  {
   "cell_type": "markdown",
   "metadata": {},
   "source": [
    "Since the ratios are close to 4, we confirmed the expected quadratic rate."
   ]
  },
  {
   "cell_type": "markdown",
   "metadata": {},
   "source": [
    "# b.\n",
    "Let $f(x) = \\sqrt{x}$ in $[0,1]$. First we define $f$ as follows:"
   ]
  },
  {
   "cell_type": "code",
   "execution_count": 198,
   "metadata": {},
   "outputs": [],
   "source": [
    "# INPUT: x\n",
    "# OUPUT: f(x)\n",
    "def f(x):\n",
    "    return x ** 0.5"
   ]
  },
  {
   "cell_type": "markdown",
   "metadata": {},
   "source": [
    "We are considering the interval $[0,1]$ with $h = \\frac{1}{16}, \\frac{1}{32}, \\frac{1}{64}, \\frac{1}{128}$, so $a = 0$, $b = 1$, and $n = 16, 32, 64, 128$.\n",
    "We can calculate\n",
    "\n",
    "$$ I[f] = \\int_0^1 \\sqrt{x} dx = \\frac{2}{3} x^{\\frac{3}{2}} \\bigg|_0^1 = \\frac{2}{3} - 0 = \\frac{2}{3}.$$\n",
    "\n",
    "Then, we want to verify second order accuracy (in $h$). So, we need to calculate $e_h = |I[f] - T_h[f]|$, where we double each subsequent $h$. Since we are doubling $h$, we want the ratios $\\frac{e_0}{e_1}$, $\\frac{e_1}{e_2}$, and $\\frac{e_2}{e_3}$ to be close to 4."
   ]
  },
  {
   "cell_type": "code",
   "execution_count": 199,
   "metadata": {},
   "outputs": [
    {
     "name": "stdout",
     "output_type": "stream",
     "text": [
      "2.7853978040411267\n",
      "2.7983215605726715\n",
      "2.8072977604845444\n"
     ]
    }
   ],
   "source": [
    "# make a list to store the e_h's\n",
    "check = []\n",
    "\n",
    "# add the values to the list\n",
    "for n in [16, 32, 64, 128]:\n",
    "    check.append(abs(float(2) / 3 - ctr(0, 1, n, f)))\n",
    "\n",
    "# compute the values\n",
    "for i in range(0,len(check) - 1): \n",
    "    print(check[i]/ check[i + 1])"
   ]
  },
  {
   "cell_type": "markdown",
   "metadata": {},
   "source": [
    "Since these values are not close to 4, we do not have second order convergence. This should not come as a surprise since $f$ is not differentiable at $x=0$, so $f \\not\\in C^2[0,1]$, which was part of our assumption."
   ]
  },
  {
   "cell_type": "markdown",
   "metadata": {},
   "source": [
    "# 3. \n",
    "First we define the function we will be working with:"
   ]
  },
  {
   "cell_type": "code",
   "execution_count": 200,
   "metadata": {},
   "outputs": [],
   "source": [
    "# INPUT: x\n",
    "# OUPUT: f(x)\n",
    "import math\n",
    "def f(x):\n",
    "    return math.cos(x ** 2)"
   ]
  },
  {
   "cell_type": "markdown",
   "metadata": {},
   "source": [
    "Then we define $q(h)$. Since $h$ depends on $n$ and our CTR function requires $n$ as an input, we will use $n$ as our input for $q$ instead of $h$."
   ]
  },
  {
   "cell_type": "code",
   "execution_count": 202,
   "metadata": {},
   "outputs": [],
   "source": [
    "# INPUT: the number of sub-intervals n\n",
    "# OUPUT: q(h)\n",
    "def q(n):\n",
    "    t_1 = ctr(0, math.sqrt(math.pi/2), n, f)\n",
    "    t_2 = ctr(0, math.sqrt(math.pi/2), n * 2, f)\n",
    "    t_4 = ctr(0, math.sqrt(math.pi/2), n * 4, f)\n",
    "    return (t_2 - t_1)/(t_4 - t_2)"
   ]
  },
  {
   "cell_type": "markdown",
   "metadata": {},
   "source": [
    "# a.\n",
    "Now we use a while loop to search for the smallest value of $n$(in other words, the least number of sub-intervals) yielding a value for $q$ approximately equal to 4. According to the TA, we take this to mean within 0.01 of 4."
   ]
  },
  {
   "cell_type": "code",
   "execution_count": 203,
   "metadata": {},
   "outputs": [],
   "source": [
    "n = 1\n",
    "while abs(4 - q(n)) > 0.01:\n",
    "    n += 1"
   ]
  },
  {
   "cell_type": "markdown",
   "metadata": {},
   "source": [
    "Then, we calculate the value of $h$ to be:"
   ]
  },
  {
   "cell_type": "code",
   "execution_count": 204,
   "metadata": {},
   "outputs": [
    {
     "data": {
      "text/plain": [
       "0.15666426716443752"
      ]
     },
     "execution_count": 204,
     "metadata": {},
     "output_type": "execute_result"
    }
   ],
   "source": [
    "math.sqrt(math.pi/2) / n"
   ]
  },
  {
   "cell_type": "markdown",
   "metadata": {},
   "source": [
    "Just for reference we keep track of the value of $n$ too:"
   ]
  },
  {
   "cell_type": "code",
   "execution_count": 205,
   "metadata": {},
   "outputs": [
    {
     "data": {
      "text/plain": [
       "8"
      ]
     },
     "execution_count": 205,
     "metadata": {},
     "output_type": "execute_result"
    }
   ],
   "source": [
    "n"
   ]
  },
  {
   "cell_type": "markdown",
   "metadata": {},
   "source": [
    "# b.\n",
    "We approximate the error, $|I[f] - T_h[f]|$, with the following function:"
   ]
  },
  {
   "cell_type": "code",
   "execution_count": 206,
   "metadata": {},
   "outputs": [],
   "source": [
    "# INPUT: the number of sub-intervals n\n",
    "# OUPUT: approximation of error for a particular h\n",
    "def e(n):\n",
    "    t_1 = ctr(0, math.sqrt(math.pi/2), n, f)\n",
    "    t_2 = ctr(0, math.sqrt(math.pi/2), n * 2, f)\n",
    "    return 4.0 * (t_2 - t_1) / 3"
   ]
  },
  {
   "cell_type": "markdown",
   "metadata": {},
   "source": [
    "Then, the approximate error for our particular $h$ is"
   ]
  },
  {
   "cell_type": "code",
   "execution_count": 207,
   "metadata": {},
   "outputs": [
    {
     "data": {
      "text/plain": [
       "0.005143262002018793"
      ]
     },
     "execution_count": 207,
     "metadata": {},
     "output_type": "execute_result"
    }
   ],
   "source": [
    "e(n)"
   ]
  },
  {
   "cell_type": "markdown",
   "metadata": {},
   "source": [
    "# c.\n",
    "We then use the value calculated in $b$ to obtain the extrapolated, improved, approximation $S_h[\\cos x^2] = $"
   ]
  },
  {
   "cell_type": "code",
   "execution_count": 208,
   "metadata": {},
   "outputs": [
    {
     "data": {
      "text/plain": [
       "0.9774547100897207"
      ]
     },
     "execution_count": 208,
     "metadata": {},
     "output_type": "execute_result"
    }
   ],
   "source": [
    "ctr(0, math.sqrt(math.pi/2), n, f) + e(n)"
   ]
  },
  {
   "cell_type": "markdown",
   "metadata": {},
   "source": [
    "# d."
   ]
  },
  {
   "cell_type": "markdown",
   "metadata": {},
   "source": [
    "$S_h[\\cos x^2]$ is more accurate because it converges faster, following a fourth order convergence(in $h$) whereas $T_h[\\cos x^2]$ follows a second order convergence(in $h$)."
   ]
  },
  {
   "cell_type": "markdown",
   "metadata": {},
   "source": [
    "# 4\n",
    "We will prove that a norm on $V$ defines a continuous function."
   ]
  },
  {
   "cell_type": "markdown",
   "metadata": {},
   "source": [
    "Fix $x \\in V$. Let $\\epsilon > 0$. Choose $\\delta = \\epsilon.$ Suppose that $ ||x - y|| < \\delta,$ where $y \\in V$. Then, by the Reverse Triangle Inequality, we have that \n",
    "\n",
    "$$|||x|| - ||y||| \\leq ||x - y|| < \\delta = \\epsilon.$$\n",
    "\n",
    "Thus, $f$ is continuous at $x$. Since $x$ was chosen arbitrarily, $f$ is continuous on its domain."
   ]
  },
  {
   "cell_type": "markdown",
   "metadata": {},
   "source": [
    "# 5.\n",
    "\n",
    "See attached picture. Red is for $||\\cdot||_1$ ball, which follows the equation $|x| + |y| \\leq 1$; blue is for $||\\cdot||_2$ ball, which follows the equation $\\sqrt{x^2 + y^2} \\leq 1$; and green is for $||\\cdot||_{\\infty}$ ball, which follows the equation $\\max\\{|x|, |y|\\} \\leq 1$. The lines drawn are the boundaries, the balls include the region inside their respective boundaries."
   ]
  },
  {
   "cell_type": "markdown",
   "metadata": {},
   "source": [
    "# 6.\n",
    "\n",
    "Suppose that $\\{f_n\\}$ converges uniformly to $f$ in $[a,b]$. By definition, this means that given any $\\epsilon$, there exists an $N$ such that if $n > N$, \n",
    "\n",
    "$$ |f_n(x) - f(x)| < \\epsilon $$\n",
    "\n",
    "for all $x \\in [a,b]$. In other words, that\n",
    "\n",
    "$$ \\sup_{x \\in [a,b]} |f_n(x) - f(x)| < \\epsilon.$$\n",
    "\n",
    "Notice that \n",
    "\n",
    "$$ |M_n - 0| = M_n = \\sup_{x \\in [a,b]} |f_n(x) - f(x)| < \\epsilon.$$\n",
    "\n",
    "Thus, this is equivalent to stating that $M_n$ converges to 0 as $n$ goes to infinity. Since all the statements were definitional or equivalent, the converse follows.\n"
   ]
  },
  {
   "cell_type": "markdown",
   "metadata": {},
   "source": [
    "# 7.\n",
    "# a.\n",
    "Let $\\epsilon > 0.$ Choose $N = \\frac{1}{4\\epsilon}$. Suppose that $n > N$. Then,\n",
    "\n",
    "$$ |f_n(x) - f(x)| = \\bigg|\\frac{(n-1)x^2}{n} + \\frac{1}{n}x - x^2 \\bigg| = \\bigg|x^2 - \\frac{x^2}{n} + \\frac{x}{n} - x^2 \\bigg| = \\bigg|\\frac{x - x^2}{n}\\bigg|.$$\n",
    "\n",
    "Notice that $x - x^2$ has zeroes at 0 and 1, with a negative leading coefficient, so it follows that such function is positive in the interval $[0,1]$. Furthermore, the maximum value on such interval must be at $x = \\frac{1}{2}$, yielding $\\frac{1}{4}$. Thus, in the interval $[0,1]$,\n",
    "\n",
    "$$ \\bigg|\\frac{x - x^2}{n}\\bigg| = \\frac{x - x^2}{n} \\leq \\frac{1}{4n} < \\frac{1}{4N} = \\epsilon.$$\n",
    "\n",
    "Therefore, $f_n$ converges uniformly to $f$ on $[0,1]$."
   ]
  },
  {
   "cell_type": "markdown",
   "metadata": {},
   "source": [
    "# b.\n",
    "Notice that $f_n$ converges pointwise to\n",
    "$f(x) = \\begin{cases} 0 & \\text{ if } 0 \\leq x < 1 \\\\\n",
    "1 & \\text{ if } x = 1\n",
    "\\end{cases}.$ \n",
    "\n",
    "From Problem 6, we know that $f_n$ converges uniformly to $f$ if and only if $M_n$ converges to 0 as $n$ goes to infinity. We will prove that $M_n$ does not converge to 0. So, we want to calculate\n",
    "\n",
    "$$ \\lim_{n \\rightarrow{} \\infty} M_n =  \\lim_{n \\rightarrow{} \\infty} \\sup_{x \\in [0,1]} |f_n(x) - f(x)|.$$\n",
    "\n",
    "Note that if $x = 1$, we get that $|f_n(x) - f(x)| = |1 - 1| = 0$. So we can exclude that point and state that\n",
    "\n",
    "$$ \\lim_{n \\rightarrow{} \\infty} \\sup_{x \\in [0,1]} |f_n(x) - f(x)| = \\lim_{n \\rightarrow{} \\infty} \\sup_{x \\in [0,1)} |f_n(x) - f(x)|.$$\n",
    "\n",
    "Given $x \\in [0,1)$, $f(x) = 0$, so\n",
    "\n",
    "$$ \\lim_{n \\rightarrow{} \\infty} \\sup_{x \\in [0,1)} |f_n(x) - f(x)| = \\lim_{n \\rightarrow{} \\infty} \\sup_{x \\in [0,1)} |f_n(x)| = \\lim_{n \\rightarrow{} \\infty} \\sup_{x \\in [0,1)} x^n$$\n",
    "\n",
    "$$  = \\lim_{n \\rightarrow{} \\infty} 1 = 1 \\neq 0.$$\n",
    "\n",
    "Thus, $M_n$ does not converge to 0, so it follows that $f_n$ does not converge uniformly on $[0,1]$. "
   ]
  }
 ],
 "metadata": {
  "kernelspec": {
   "display_name": "Python 3",
   "language": "python",
   "name": "python3"
  },
  "language_info": {
   "codemirror_mode": {
    "name": "ipython",
    "version": 3
   },
   "file_extension": ".py",
   "mimetype": "text/x-python",
   "name": "python",
   "nbconvert_exporter": "python",
   "pygments_lexer": "ipython3",
   "version": "3.7.0a4"
  }
 },
 "nbformat": 4,
 "nbformat_minor": 2
}
