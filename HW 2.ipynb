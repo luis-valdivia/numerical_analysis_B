{
 "cells": [
  {
   "cell_type": "markdown",
   "metadata": {},
   "source": [
    "Last modified Jul. 4, 2020 by Luis Valdivia"
   ]
  },
  {
   "cell_type": "markdown",
   "metadata": {},
   "source": [
    "# 1.\n",
    "\n",
    "First we need to code the combination formula, $n$ choose $k$. Then, we code the general function for the Bernstein polynomial of $f$ of degree $n$, evaluated at $x$."
   ]
  },
  {
   "cell_type": "code",
   "execution_count": 77,
   "metadata": {},
   "outputs": [],
   "source": [
    "import math\n",
    "\n",
    "# INPUT: two natural numbers n and k\n",
    "# OUTPUT: n choose k\n",
    "def nCk(n,k):\n",
    "    return math.factorial(n) // math.factorial(k) // math.factorial(n-k)\n",
    "\n",
    "# INPUT: a function f, a natural number n, a real number x\n",
    "# OUTPUT: the Bernstein polynomial of f of degree n, evaluated at x\n",
    "def ben(f, n, x):\n",
    "    sum = 0\n",
    "    for k in range(n+1):\n",
    "        sum += f(k/n) * nCk(n,k) * (x**k) * ((1 - x)**(n-k))\n",
    "    return sum\n"
   ]
  },
  {
   "cell_type": "markdown",
   "metadata": {},
   "source": [
    "Now, we code the particular function $f$ we will be using."
   ]
  },
  {
   "cell_type": "code",
   "execution_count": 60,
   "metadata": {},
   "outputs": [],
   "source": [
    "def f(x):\n",
    "    if x < 0.5:\n",
    "        return x\n",
    "    if x >= 0.5:\n",
    "        return 1 - x"
   ]
  },
  {
   "cell_type": "markdown",
   "metadata": {},
   "source": [
    "We can calculate $E_n = \\max_{0 \\leq x \\leq 1} || f(x) - B_nf(x) ||_{\\infty}$ for a variety of $n$'s(since we can't realistically test every $x$, we are just testing a select few). We will double the $n$'s each time and compare each subsequent ratio. "
   ]
  },
  {
   "cell_type": "code",
   "execution_count": 94,
   "metadata": {},
   "outputs": [
    {
     "name": "stdout",
     "output_type": "stream",
     "text": [
      "1.3333333333333333\n",
      "1.3714285714285714\n",
      "1.3923853923853924\n",
      "1.4032204910228396\n",
      "1.4087016315244514\n",
      "1.4114543183900252\n",
      "1.4128331931309048\n",
      "1.4135232000386646\n"
     ]
    }
   ],
   "source": [
    "e = []\n",
    "for n in [2, 4, 8, 16, 32, 64, 128, 256, 512]:\n",
    "    x = []\n",
    "    for i in range(n+1):\n",
    "        x.append(abs(f(i/n) - ben(f, n, i/n))) \n",
    "    e.append(max(x)) # this is E_n\n",
    "\n",
    "# then we calculate the ratios and observe them\n",
    "for i in range(len(e) - 1): \n",
    "    print(e[i]/ e[i + 1])"
   ]
  },
  {
   "cell_type": "markdown",
   "metadata": {},
   "source": [
    "Notice that these numbers seem to approximate $\\sqrt{2}$. Since we were doubling $n$ each time, the rate of convergence should be $\\log_2(\\sqrt{2}) = \\frac{1}{2}$ order, or $O(n^{\\frac{1}{2}})$."
   ]
  },
  {
   "cell_type": "markdown",
   "metadata": {},
   "source": [
    "# 2."
   ]
  },
  {
   "cell_type": "code",
   "execution_count": 1,
   "metadata": {},
   "outputs": [],
   "source": [
    "import matplotlib.pyplot as plt \n",
    "from numpy import array"
   ]
  },
  {
   "cell_type": "code",
   "execution_count": 75,
   "metadata": {},
   "outputs": [],
   "source": [
    "# INPUT: the three points p_0 = (a,b), p_1 = (c,d), p_2 = (e,f)\n",
    "#        along with how many intervals n we want to partition t = [0,1] into\n",
    "# OUTPUT: the Bezier curve connecting p_0 and p_2, with bend controlled by p_1\n",
    "def bez_graph(a,b,c,d,e,f,n):\n",
    "    # stores the points as arrays so we can perform vector operations\n",
    "    p_0 = array([a,b])\n",
    "    p_1 = array([c,d])\n",
    "    p_2 = array([e,f])\n",
    "    # two empty lists for storing coordinates\n",
    "    x = []\n",
    "    y = []\n",
    "    # from 2.21, the parametric form used for plotting the Bezier curve\n",
    "    for t in range(n+1):\n",
    "        q = ((1 - t/n)**2 * p_0) + (2 * (t/n) * (1 - t/n) * p_1) + ((t/n)**2 * p_2)\n",
    "        x.append(q[0])\n",
    "        y.append(q[1])\n",
    "    # plotting the points  \n",
    "    plt.plot(x, y, color = 'blue') \n",
    "    # rescaling axes \n",
    "    plt.ylim(-10,90) \n",
    "    plt.xlim(-15,21)"
   ]
  },
  {
   "cell_type": "markdown",
   "metadata": {},
   "source": [
    "In order for the curve to be $C^1$, we need all points of the second curve, and $p_0$ and $p_1$ from the third curve to be on the line going through $p_1$ and $p_2$ of the first curve. Using the point-slope formula yields that these points should all be on the line $y=20x-20.$"
   ]
  },
  {
   "cell_type": "code",
   "execution_count": 76,
   "metadata": {},
   "outputs": [
    {
     "data": {
      "image/png": "[encoded data removed]",
      "text/plain": [
       "<Figure size 432x288 with 1 Axes>"
      ]
     },
     "metadata": {
      "needs_background": "light"
     },
     "output_type": "display_data"
    }
   ],
   "source": [
    "bez_graph(0,0.5,0.75,-5,1,0,200)\n",
    "bez_graph(1,0,3,40,5,80,200)\n",
    "bez_graph(5,80,5.25,85,6,80,200)"
   ]
  },
  {
   "cell_type": "markdown",
   "metadata": {},
   "source": [
    "# 3.\n",
    "\n",
    "Let $p_1,p_2 \\in W$ be best approximations of $f \\in V$. Then\n",
    "\n",
    "$$||f-p_1|| = ||f-p_2|| \\leq ||f-p||$$\n",
    "\n",
    "for all $p \\in W$. Let $\\lambda \\in (0,1)$. Since $W$ is closed under addition and scalar multiplication, $\\lambda p_1 + (1 - \\lambda)p_2 \\in W$. So we need just prove that it is also a best approximations of $f \\in V$. Since $\\lambda p_1 + (1 - \\lambda)p_2 \\in W$, it follows that $||f-p_1|| \\leq ||f-\\lambda p_1 - (1 - \\lambda)p_2||$, so we want to prove that \n",
    "$||f-p_1|| \\geq ||f-\\lambda p_1 - (1 - \\lambda)p_2||$.\n",
    "\n",
    "Since $\\lambda$ is a scalar, we can factor it out, and then add and subtract $f$ within the norm as follows,\n",
    "\n",
    "$$ ||f-\\lambda p_1 - (1 - \\lambda)p_2|| \n",
    "= \\lambda \\bigg|\\bigg| \\frac{1}{\\lambda} f - p_1 - \\frac{1-\\lambda}{\\lambda}p_2\\bigg|\\bigg|\n",
    "= \\lambda \\bigg|\\bigg| f - p_1 + \\frac{1}{\\lambda} f - f - \\frac{1-\\lambda}{\\lambda}p_2\\bigg|\\bigg|$$\n",
    "$$ = \\lambda \\bigg|\\bigg| f - p_1 + \\frac{1 - \\lambda}{\\lambda} f - \\frac{1-\\lambda}{\\lambda}p_2\\bigg|\\bigg|\n",
    "= \\lambda \\bigg|\\bigg| f - p_1 + \\frac{1 - \\lambda}{\\lambda} (f - p_2) \\bigg|\\bigg|.$$\n",
    "\n",
    "Then by the triangle inequality,\n",
    "\n",
    "$$\\lambda \\bigg|\\bigg| f - p_1 + \\frac{1 - \\lambda}{\\lambda} (f - p_2) \\bigg|\\bigg| \\leq \n",
    "\\lambda \\bigg( ||f - p_1|| +  \\frac{1 - \\lambda}{\\lambda} ||f - p_2|| \\bigg)$$\n",
    "$$ = \\lambda||f - p_1|| +  (1 - \\lambda)||f - p_2||. $$\n",
    "\n",
    "Recall that $||f-p_1|| = ||f-p_2||$, so\n",
    "\n",
    "$$\\lambda||f - p_1|| +  (1 - \\lambda)||f - p_2|| \n",
    "= \\lambda||f - p_1|| +  (1 - \\lambda)||f - p_1||\n",
    "= ||f - p_1||.$$\n",
    "\n",
    "Therefore, $ ||f-\\lambda p_1 - (1 - \\lambda)p_2|| \\leq ||f-p_1||$, which implies $ ||f-\\lambda p_1 - (1 - \\lambda)p_2|| = ||f-p_1||$, hence $\\lambda p_1 + (1 - \\lambda)p_2$ is a best approximation and the set of best approximations of $f$ in $W$ is convex.\n"
   ]
  },
  {
   "cell_type": "markdown",
   "metadata": {},
   "source": [
    "# 4.\n",
    "# a.\n",
    "\n",
    "Notice that $f(x) = \\sin(2x)$ is continuous on $[0,2\\pi]$. Thus, we can apply Chebyshev's Equioscillation Theorem to state that $p_2 \\in \\mathbb{P}_2$ is a best uniform approximation of $f$ if and only if there are at least 4 points where the error $e_2 = f - p_2$ equioscillates between the values $\\pm||e_2||_{\\infty}$. Furthermore, by Theorem 6, this is unique.\n",
    "\n",
    "We claim that $p_2$ is the zero polynomial. To prove such claim, we need just show the second part of the if statement. We can calculate\n",
    "\n",
    "$$ \\pm||e_2||_{\\infty} = \\pm||\\sin(2x)||_{\\infty} = \\pm 1.$$\n",
    "\n",
    "This happens exactly 4 times, at $x = \\frac{\\pi}{4},\\frac{3\\pi}{4},\\frac{5\\pi}{4},\\frac{7\\pi}{4}$. Since we have found 4 points where the error equioscillates between the values $\\pm 1$, we have found the best uniform approximation of $f$.\n",
    "\n",
    "\n",
    "# b.\n",
    "\n",
    "Since $f$ is continuous on a compact domain, it attains a maximum and a minimum. Furthermore, since $f$ is continuous, we can apply Chebyshev's Equioscillation Theorem to state that $p_0 \\in \\mathbb{P}_0$ is a best uniform approximation of $f$ if and only if there are at least 2 points where the error $e_0 = f - p_0$ equioscillates between the values $\\pm||e_0||_{\\infty}$. By Theorem 6, this is unique. We claim that the best uniform approximation to $f$ by a constant is \n",
    "\n",
    "$$ p_0 = \\frac{\\max_{x\\in[a,b]} f + \\min_{x\\in[a,b]} f}{2}. $$\n",
    "\n",
    "Then, we calculate\n",
    "\n",
    "$$ \\pm||e_0||_{\\infty} = \\pm||f - p_0||_{\\infty} = \\pm\\bigg|\\bigg|f - \\frac{\\max_{x\\in[a,b]} f + \\min_{x\\in[a,b]} f}{2}\\bigg|\\bigg|_{\\infty} = \\frac{ \\mp \\max_{x\\in[a,b]} f \\pm \\min_{x\\in[a,b]} f}{2}.$$\n",
    "\n",
    "This happens whenever $f$ attains its maximum or its minimum on $[a,b]$. Since we know these two events are guaranteed to occur, we have found the best uniform approximation of $f$.\n"
   ]
  },
  {
   "cell_type": "markdown",
   "metadata": {},
   "source": [
    "# 5.\n",
    "\n",
    "To prove that a best approximation to $f$ is not unique, we need just find two. We can rewrite $W = span\\{(0 \\; 1 \\; 0)^T,(0 \\; 0 \\; 1)^T\\}$ as $W = \\{(0 \\; y \\; z)^T \\mid y,z \\in \\mathbb{R}\\}$. Then we can calculate\n",
    "\n",
    "$$ || (0 \\; y \\; z)^T - (3 \\; 6 \\; 4)^T||_{\\infty} = | (-3 \\;\\; y - 6 \\;\\; z - 4)^T||_{\\infty} = \\max \\{3, |y-6|, |z-4|\\}.$$\n",
    "\n",
    "Notice that we can only change the second and third values, and that we can make them smaller than 3. Since we can't change 3, it is the smallest value that the norm can achieve. Then, if we choose $y = 6$ and $z = 4$, we get the norm to be 3. Similarly, for $y = 5$ and $z = 4$, we get the norm to be 3. So we have found that $(0,6,4)$ and $(0,5,4)$ are best approximations, hence a best approximation to $f$ is not unique. \n"
   ]
  },
  {
   "cell_type": "markdown",
   "metadata": {},
   "source": [
    "# 6.\n",
    "\n",
    "We want to show that $\\{T_j \\mid j = 0, \\dots, n\\}$ is a basis for $\\mathbb{P}_n$ because that implies that any $p \\in \\mathbb{P}_n$ is a linear combination of such $T_j$'s. Recall that the standard basis for $\\mathbb{P}_n$ is $B = \\{x^j \\mid j = 0, \\dots, n\\}$. Using such basis, we can write each $T_j$ as a vector with at most $j+1$ non-zero entries. Then we consider the matrix\n",
    "\n",
    "$$ [[T_0]_B \\; \\cdots \\; [T_n]_B] = \n",
    "\\begin{bmatrix}\n",
    "1 & 0 & \\dots & \\vdots\\\\\n",
    "0 & 1 & \\dots & \\vdots\\\\\n",
    "\\vdots & \\vdots & \\dots & \\vdots\\\\\n",
    "0 & 0 & \\dots & 2^{n-1} \n",
    "\\end{bmatrix},$$\n",
    "\n",
    "which is upper-triangular with a non-zero diagonal(notice the values along the diagonal are $2^{j-1}$). Thus, this matrix is invertible. Since the dimension of this matrix is $n+1$ and we have $n+1$ linear independent vectors, these vectors form a basis. "
   ]
  },
  {
   "cell_type": "markdown",
   "metadata": {},
   "source": [
    "# 7.\n",
    "For simplicity, let's consider the interval $[-1,1]$. First we define a function to compute the Chebyshev polynomial of degree $n$ at $x$. Then, we define a function to plot the Chebyshev polynomial of degree $n$ in our desired window.\n"
   ]
  },
  {
   "cell_type": "code",
   "execution_count": 2,
   "metadata": {},
   "outputs": [],
   "source": [
    "# INPUT: a real number x and a nonnegative integer n\n",
    "# OUTPUT: the Chebyshev polynomial of degree n, evaluated at x\n",
    "def T(x,n):\n",
    "    if n == 0:\n",
    "        return 1\n",
    "    elif n == 1:\n",
    "        return x\n",
    "    else:\n",
    "        return (2 * x * T(x,n-1) - T(x, n-2))\n",
    "    \n",
    "# INPUT: a nonnegative integer n\n",
    "# OUTPUT: plots the Chebyshev polynomial of degree n in the interval [−1,1] \n",
    "def plot_T_n(n):\n",
    "    x_val = []\n",
    "    y_val = []\n",
    "    for t in range(200):\n",
    "        x_val.append(-1 + (t/100))\n",
    "        y_val.append(T(-1 + (t/100), n))\n",
    "    plt.plot(x_val, y_val) "
   ]
  },
  {
   "cell_type": "markdown",
   "metadata": {},
   "source": [
    "Now we plot $T_1,T_2,T_3,T_6$."
   ]
  },
  {
   "cell_type": "code",
   "execution_count": 3,
   "metadata": {},
   "outputs": [
    {
     "data": {
      "image/png": "[encoded data removed]",
      "text/plain": [
       "<Figure size 432x288 with 1 Axes>"
      ]
     },
     "metadata": {
      "needs_background": "light"
     },
     "output_type": "display_data"
    }
   ],
   "source": [
    "plot_T_n(1)\n",
    "plot_T_n(2)\n",
    "plot_T_n(3)\n",
    "plot_T_n(6)"
   ]
  },
  {
   "cell_type": "code",
   "execution_count": null,
   "metadata": {},
   "outputs": [],
   "source": []
  }
 ],
 "metadata": {
  "kernelspec": {
   "display_name": "Python 3",
   "language": "python",
   "name": "python3"
  },
  "language_info": {
   "codemirror_mode": {
    "name": "ipython",
    "version": 3
   },
   "file_extension": ".py",
   "mimetype": "text/x-python",
   "name": "python",
   "nbconvert_exporter": "python",
   "pygments_lexer": "ipython3",
   "version": "3.7.0a4"
  }
 },
 "nbformat": 4,
 "nbformat_minor": 2
}
