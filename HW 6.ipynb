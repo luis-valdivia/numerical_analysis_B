{
 "cells": [
  {
   "cell_type": "markdown",
   "metadata": {},
   "source": [
    "Last modified Jul. 31, 2020 by Luis Valdivia"
   ]
  },
  {
   "cell_type": "markdown",
   "metadata": {},
   "source": [
    "# 2.\n",
    "\n",
    "By definition,\n",
    "\n",
    "$$ || \\phi_0 + \\dots + \\phi_n||^2 = \\langle \\phi_0 + \\dots + \\phi_n, \\phi_0 + \\dots + \\phi_n \\rangle$$\n",
    "\n",
    "$$ = \\int_a^b (\\phi_0 + \\dots + \\phi_n) (\\phi_0 + \\dots + \\phi_n) dx $$\n",
    "\n",
    "$$ = \\int_a^b \\phi_0^2 + \\phi_1^2 + \\dots \\phi_n^2 + 2 \\phi_0\\phi_1 + 2\\phi_0\\phi_2 + \\dots + 2\\phi_n\\phi_{n-1} dx. $$\n",
    "\n",
    "Then, by linearity of the integral, this is equal to\n",
    "\n",
    "$$ \\int_a^b \\phi_0^2 dx + \\int_a^b \\phi_1^2 dx + \\dots \\int_a^b \\phi_n^2 dx + 2 \\int_a^b \\phi_0\\phi_1 dx + 2 \\int_a^b \\phi_0\\phi_2 dx + \\dots + 2 \\int_a^b \\phi_n\\phi_{n-1} dx $$\n",
    "\n",
    "Since these functions are orthogonal, whenever the subscripts are not equal, the integral evaluates to 0. Thus, we are left with \n",
    "\n",
    "$$ \\int_a^b \\phi_0^2 dx + \\int_a^b \\phi_1^2 dx + \\dots \\int_a^b \\phi_n^2 dx $$\n",
    "\n",
    "$$ = \\langle \\phi_0 , \\phi_0 \\rangle +  \\dots + \\langle \\phi_n , \\phi_n \\rangle$$\n",
    "\n",
    "$$ = ||\\phi_0||^2 + \\dots ||\\phi_n||^2. $$"
   ]
  },
  {
   "cell_type": "markdown",
   "metadata": {},
   "source": [
    "# 4.\n",
    "# a.\n",
    "\n",
    "We know that $\\{\\phi_0, \\phi_1, \\phi_2, \\phi_3\\} = \\{1,x,x^2,x^3\\}$ are linearly independent. We can use Gram-Schimdt to construct an orthogonal set, known as the Legendre polynomials. We start by setting $\\psi_0 = \\phi_0$. Then,\n",
    "\n",
    "$$ \\psi_1 = \\phi_1 - \\psi_0 c_0 = x - 1 \\frac{\\int_{-1}^1 x dx}{\\int_{-1}^1 dx} = x - 0 = x. $$\n",
    "\n",
    "Then, the third polynomial will be\n",
    "\n",
    "$$ \\psi_2 = \\phi_2 - \\psi_0 c_0 - \\psi_1 c_1 \n",
    "= x^2 - 1 \\frac{\\int_{-1}^1 x^2 dx}{\\int_{-1}^1 dx} - x \\frac{\\int_{-1}^1 x^3 dx}{\\int_{-1}^1 x^2 dx} \n",
    "= x^2 - 1 \\frac{\\frac{2}{3}}{2} - 0 \n",
    "= x^2 - \\frac{1}{3}. $$\n",
    "\n",
    "Finally, the fourth polynomial is \n",
    "\n",
    "$$ \\psi_3 = \\phi_3 - \\psi_0 c_0 - \\psi_1 c_1 - \\psi_2 c_2 \n",
    "= x^3 - 1 \\frac{\\int_{-1}^1 x^3 dx}{\\int_{-1}^1 dx} - x \\frac{\\int_{-1}^1 x^4 dx}{\\int_{-1}^1 x^2 dx} - (x^2 - \\frac{1}{3}) \\frac{\\int_{-1}^1 x^5 - \\frac{1}{3}x^3 dx}{\\int_{-1}^1 (x^2 - \\frac{1}{3})^2 dx} \n",
    "= x^3 - x \\frac{\\frac{2}{5}}{\\frac{2}{3}}\n",
    "= x^3 - x\\frac{3}{5}.$$\n",
    "\n",
    "The first 4 Legendre polynomials in $[-1,1]$ are \n",
    "\n",
    "$$ \\{ 1, x, x^2 - \\frac{1}{3}, x^3 - \\frac{3}{5}x \\}. $$"
   ]
  },
  {
   "cell_type": "markdown",
   "metadata": {},
   "source": [
    "# b.\n",
    "\n",
    "We like Legendre polynomials because they are orthogonal. Given them, we simply need to compute the coefficients for the Least Squares Approximation Polynomial. Recall that the coefficients are\n",
    "\n",
    "$$ a_m = \\frac{1}{\\alpha_m} \\int_a^b \\phi_m(x) f(x) dx, $$\n",
    "\n",
    "where $\\alpha_m = \\int_a^b \\phi^2_m(x) dx.$ We first compute the $\\alpha_m$.\n",
    "\n",
    "We have \n",
    "\n",
    "$$\\alpha_0 = \\int_{-1}^1 1^2 dx = x \\bigg|_{-1}^1 = 1 + 1 = 2;$$\n",
    "\n",
    "$$\\alpha_1 = \\int_{-1}^1 x^2 dx = \\frac{x^3}{3} \\bigg|_{-1}^1 = \\frac{1}{3} + \\frac{1}{3} = \\frac{2}{3};$$\n",
    "\n",
    "$$\\alpha_2 = \\int_{-1}^1 (x^2 - \\frac{1}{3})^2 dx \n",
    "= \\int_{-1}^1 x^4 - \\frac{2}{3} x^2 + \\frac{1}{9} dx \n",
    "= \\frac{x^5}{5} - \\frac{2}{9} x^3 + \\frac{1}{9}x \\bigg|_{-1}^1 \n",
    "= \\frac{1}{5} - \\frac{2}{9} + \\frac{1}{9} + \\frac{1}{5} - \\frac{2}{9} + \\frac{1}{9} \n",
    "= \\frac{2}{5} - \\frac{2}{9}\n",
    "= \\frac{8}{45};$$\n",
    "\n",
    "$$\\alpha_3 = \\int_{-1}^1 (x^3 - \\frac{3}{5}x)^2 dx \n",
    "= \\int_{-1}^1 x^6 - \\frac{6}{5}x^4 + \\frac{9}{25}x^2 dx \n",
    "= \\frac{1}{7}x^7 - \\frac{6}{25}x^5 + \\frac{3}{25}x^3 \\bigg|_{-1}^1 \n",
    "= \\frac{1}{7} - \\frac{6}{25} + \\frac{3}{25} + \\frac{1}{7} - \\frac{6}{25} + \\frac{3}{25}\n",
    "= \\frac{2}{7} - \\frac{6}{25} \n",
    "= \\frac{8}{175}.$$"
   ]
  },
  {
   "cell_type": "markdown",
   "metadata": {},
   "source": [
    "Now we compute the $a_m$'s. We have \n",
    "\n",
    "$$ a_0 = \\frac{1}{2} \\int_{-1}^1 e^x dx = \\frac{1}{2} e^x \\bigg|_{-1}^1 = \\frac{e}{2} - \\frac{1}{2e};$$\n",
    "\n",
    "$$ a_1 = \\frac{3}{2} \\int_{-1}^1 x e^x dx = \\frac{3}{2} (x e^x - e^x) \\bigg|_{-1}^1 = \\frac{3}{2} (e - e + \\frac{1}{e} + \\frac{1}{e}) = \\frac{3}{e};$$\n",
    "\n",
    "$$ a_2 = \\frac{45}{8} \\int_{-1}^1 (x^2 - \\frac{1}{3})e^x dx \n",
    "= \\frac{45}{8} \\int_{-1}^1 x^2 e^x - \\frac{1}{3} e^x dx \n",
    "= \\frac{45}{8} (e^x(x^2 - 2x + 2) -  \\frac{1}{3} e^x) \\bigg|_{-1}^1 \n",
    "= \\frac{45}{8} (e(1 - 2 + 2) - \\frac{1}{3} e - \\frac{1}{e}(1 + 2 + 2) + \\frac{1}{3} \\frac{1}{e} )\n",
    "= \\frac{45}{8} (e - \\frac{e}{3}  - \\frac{5}{e} + \\frac{1}{3e})\n",
    "= \\frac{45}{8} (\\frac{2e}{3} - \\frac{14}{3e}) \n",
    "= \\frac{15e}{4} - \\frac{105}{4e} ;$$\n",
    "\n",
    "$$\\alpha_3 = \\frac{175}{8} \\int_{-1}^1 (x^3 - \\frac{3}{5}x)e^x dx \n",
    "= \\frac{175}{8} \\int_{-1}^1 x^3e^x - \\frac{3}{5}xe^x dx \n",
    "= \\frac{175}{8} (e^x(x^3 - 3x^2 + 6x - 6) -  \\frac{3}{5}x e^x + \\frac{3}{5}e^x) \\bigg|_{-1}^1 \n",
    "= \\frac{175}{8} (e(1 - 3 + 6 - 6) -  \\frac{3}{5}e + \\frac{3}{5}e) + (\\frac{1}{e}(1 + 3 + 6 + 6) - \\frac{3}{5e} - \\frac{3}{5e})\n",
    "= \\frac{175}{8} (-2e + \\frac{16}{e} - \\frac{6}{5e})\n",
    "= \\frac{175}{8} (-2e + \\frac{74}{5e})\n",
    "= \\frac{-175e}{4} + \\frac{1295}{4e}.$$\n",
    "\n",
    "Therefore, the least square approximation for $e^x$ on $[-1,1]$ of degree 1 is \n",
    "\n",
    "$$ p_1(x) = \\frac{e}{2} - \\frac{1}{2e} + \\frac{3x}{e},$$\n",
    "\n",
    "for degree 2 is\n",
    "\n",
    "$$ p_2(x) = \\frac{e}{2} - \\frac{1}{2e} + \\frac{3x}{e} + (\\frac{15e}{4} - \\frac{105}{4e})(x^2 - \\frac{1}{3}) ,$$\n",
    "\n",
    "and for degree 3 is\n",
    "\n",
    "$$ p_3(x) = \\frac{e}{2} - \\frac{1}{2e} + \\frac{3x}{e} + (\\frac{15e}{4} - \\frac{105}{4e})(x^2 - \\frac{1}{3}) + (\\frac{-175e}{4} + \\frac{1295}{4e}) (x^3 - \\frac{3}{5}x).$$\n"
   ]
  },
  {
   "cell_type": "markdown",
   "metadata": {},
   "source": [
    "# c.\n",
    "\n",
    "Notice that $p_4(x) = x^3$ is a polynomial of degree less than 4. Also notice that\n",
    "\n",
    "$$ \\int_{-1}^1 (f(x) - p_4(x))^2 dx =  \\int_{-1}^1 (0)^2 dx = 0, $$\n",
    "\n",
    "so it is minimized. Thus, $p_4(x)$ is the polynomial least squares approximation of degree 4 for $x^3$."
   ]
  },
  {
   "cell_type": "markdown",
   "metadata": {},
   "source": [
    "# 5.\n",
    "\n",
    "We recall our Chebyshev function from HW 2 and edit it. We add another elif statement for the $n=2$ case, which should yield $x^2 - \\frac{1}{2}$. Recall that for Chebyshev polynomials we have the relation $T_{n+1}(x) = 2xT_{n}(x) - T_{n-1}(x)$. If we multiply by $2^{-n}$ and recall that the $\\tilde{T}_n(x) = 2^{1-n} T_{n}(x)$, we get\n",
    "\n",
    "$$2^{-n}T_{n+1}(x) = 2^{-n}2 x T_{n}(x) - 2^{-n}T_{n-1}(x),$$\n",
    "\n",
    "$$ \\tilde{T}_{n+1}(x) = 2^{1-n} x T_{n}(x) - 2^{-2} 2^{2-n}T_{n-1}(x),$$\n",
    "\n",
    "$$ \\tilde{T}_{n+1}(x) = x \\tilde{T}_{n}(x) - \\frac{1}{4} \\tilde{T}_{n-1}(x).$$\n",
    "\n",
    "Thus we have found our new recursive relation for our monic Chebyshev polynomials.\n"
   ]
  },
  {
   "cell_type": "code",
   "execution_count": 2,
   "metadata": {},
   "outputs": [],
   "source": [
    "import matplotlib.pyplot as plt "
   ]
  },
  {
   "cell_type": "code",
   "execution_count": 38,
   "metadata": {},
   "outputs": [],
   "source": [
    "# INPUT: a real number x and a nonnegative integer n\n",
    "# OUTPUT: the monic Chebyshev polynomial of degree n, evaluated at x\n",
    "def T(x,n):\n",
    "    if n == 0:\n",
    "        return 1\n",
    "    elif n == 1:\n",
    "        return x\n",
    "    elif n == 2:\n",
    "        return x**2 - 0.5\n",
    "    else:\n",
    "        return (x * T(x,n-1) - 0.25 * T(x, n-2))\n",
    "    \n",
    "# INPUT: a nonnegative integer n\n",
    "# OUTPUT: plots the monic Chebyshev polynomial of degree n in the interval [−1,1] \n",
    "def plot_T_n(n):\n",
    "    x_val = []\n",
    "    y_val = []\n",
    "    for t in range(200):\n",
    "        x_val.append(-1 + (t/100))\n",
    "        y_val.append(T(-1 + (t/100), n))\n",
    "    plt.plot(x_val, y_val) "
   ]
  },
  {
   "cell_type": "code",
   "execution_count": 40,
   "metadata": {},
   "outputs": [
    {
     "data": {
      "image/png": "[encoded data removed]",
      "text/plain": [
       "<Figure size 432x288 with 1 Axes>"
      ]
     },
     "metadata": {
      "needs_background": "light"
     },
     "output_type": "display_data"
    }
   ],
   "source": [
    "plot_T_n(0)\n",
    "plot_T_n(1)\n",
    "plot_T_n(2)\n",
    "plot_T_n(3)\n",
    "plot_T_n(4)"
   ]
  }
 ],
 "metadata": {
  "kernelspec": {
   "display_name": "Python 3",
   "language": "python",
   "name": "python3"
  },
  "language_info": {
   "codemirror_mode": {
    "name": "ipython",
    "version": 3
   },
   "file_extension": ".py",
   "mimetype": "text/x-python",
   "name": "python",
   "nbconvert_exporter": "python",
   "pygments_lexer": "ipython3",
   "version": "3.7.0a4"
  }
 },
 "nbformat": 4,
 "nbformat_minor": 2
}
